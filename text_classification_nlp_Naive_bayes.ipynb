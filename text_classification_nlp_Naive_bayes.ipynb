{
 "cells": [
  {
   "cell_type": "markdown",
   "metadata": {},
   "source": [
    "# loading data #\n"
   ]
  },
  {
   "cell_type": "code",
   "execution_count": 2,
   "metadata": {
    "collapsed": true
   },
   "outputs": [],
   "source": [
    "from sklearn.datasets import fetch_20newsgroups"
   ]
  },
  {
   "cell_type": "code",
   "execution_count": 80,
   "metadata": {
    "collapsed": false
   },
   "outputs": [],
   "source": [
    "twenty_train = fetch_20newsgroups(subset='train',shuffle=True)"
   ]
  },
  {
   "cell_type": "code",
   "execution_count": 81,
   "metadata": {
    "collapsed": false
   },
   "outputs": [],
   "source": [
    "#twenty_train"
   ]
  },
  {
   "cell_type": "code",
   "execution_count": 82,
   "metadata": {
    "collapsed": false
   },
   "outputs": [
    {
     "data": {
      "text/plain": [
       "['alt.atheism',\n",
       " 'comp.graphics',\n",
       " 'comp.os.ms-windows.misc',\n",
       " 'comp.sys.ibm.pc.hardware',\n",
       " 'comp.sys.mac.hardware',\n",
       " 'comp.windows.x',\n",
       " 'misc.forsale',\n",
       " 'rec.autos',\n",
       " 'rec.motorcycles',\n",
       " 'rec.sport.baseball',\n",
       " 'rec.sport.hockey',\n",
       " 'sci.crypt',\n",
       " 'sci.electronics',\n",
       " 'sci.med',\n",
       " 'sci.space',\n",
       " 'soc.religion.christian',\n",
       " 'talk.politics.guns',\n",
       " 'talk.politics.mideast',\n",
       " 'talk.politics.misc',\n",
       " 'talk.religion.misc']"
      ]
     },
     "execution_count": 82,
     "metadata": {},
     "output_type": "execute_result"
    }
   ],
   "source": [
    "twenty_train.target_names"
   ]
  },
  {
   "cell_type": "code",
   "execution_count": 83,
   "metadata": {
    "collapsed": false
   },
   "outputs": [
    {
     "data": {
      "text/plain": [
       "11314"
      ]
     },
     "execution_count": 83,
     "metadata": {},
     "output_type": "execute_result"
    }
   ],
   "source": [
    "len(twenty_train.data)"
   ]
  },
  {
   "cell_type": "code",
   "execution_count": 84,
   "metadata": {
    "collapsed": false
   },
   "outputs": [
    {
     "data": {
      "text/plain": [
       "11314"
      ]
     },
     "execution_count": 84,
     "metadata": {},
     "output_type": "execute_result"
    }
   ],
   "source": [
    "len(twenty_train.filenames)"
   ]
  },
  {
   "cell_type": "code",
   "execution_count": 85,
   "metadata": {
    "collapsed": false
   },
   "outputs": [
    {
     "data": {
      "text/plain": [
       "[u\"From: lerxst@wam.umd.edu (where's my thing)\",\n",
       " u'Subject: WHAT car is this!?',\n",
       " u'Nntp-Posting-Host: rac3.wam.umd.edu',\n",
       " u'Organization: University of Maryland, College Park',\n",
       " u'Lines: 15',\n",
       " u'',\n",
       " u' I was wondering if anyone out there could enlighten me on this car I saw',\n",
       " u'the other day. It was a 2-door sports car, looked to be from the late 60s/',\n",
       " u'early 70s. It was called a Bricklin. The doors were really small. In addition,',\n",
       " u'the front bumper was separate from the rest of the body. This is ',\n",
       " u'all I know. If anyone can tellme a model name, engine specs, years',\n",
       " u'of production, where this car is made, history, or whatever info you',\n",
       " u'have on this funky looking car, please e-mail.',\n",
       " u'',\n",
       " u'Thanks,',\n",
       " u'- IL',\n",
       " u'   ---- brought to you by your neighborhood Lerxst ----',\n",
       " u'',\n",
       " u'',\n",
       " u'',\n",
       " u'',\n",
       " u'']"
      ]
     },
     "execution_count": 85,
     "metadata": {},
     "output_type": "execute_result"
    }
   ],
   "source": [
    "twenty_train.data[0].split(\"\\n\")"
   ]
  },
  {
   "cell_type": "markdown",
   "metadata": {},
   "source": [
    "# extracting features #"
   ]
  },
  {
   "cell_type": "code",
   "execution_count": 86,
   "metadata": {
    "collapsed": false
   },
   "outputs": [],
   "source": [
    "# using Bag-of-words\n",
    "from sklearn.feature_extraction.text import CountVectorizer"
   ]
  },
  {
   "cell_type": "code",
   "execution_count": 87,
   "metadata": {
    "collapsed": false
   },
   "outputs": [
    {
     "data": {
      "text/plain": [
       "(11314, 130107)"
      ]
     },
     "execution_count": 87,
     "metadata": {},
     "output_type": "execute_result"
    }
   ],
   "source": [
    "count_vect = CountVectorizer()\n",
    "X_train_counts = count_vect.fit_transform(twenty_train.data)\n",
    "X_train_counts.shape"
   ]
  },
  {
   "cell_type": "code",
   "execution_count": 88,
   "metadata": {
    "collapsed": false
   },
   "outputs": [
    {
     "data": {
      "text/plain": [
       "<11314x130107 sparse matrix of type '<type 'numpy.int64'>'\n",
       "\twith 1787565 stored elements in Compressed Sparse Row format>"
      ]
     },
     "execution_count": 88,
     "metadata": {},
     "output_type": "execute_result"
    }
   ],
   "source": [
    "X_train_counts"
   ]
  },
  {
   "cell_type": "code",
   "execution_count": 89,
   "metadata": {
    "collapsed": false
   },
   "outputs": [
    {
     "data": {
      "text/plain": [
       "(11314, 130107)"
      ]
     },
     "execution_count": 89,
     "metadata": {},
     "output_type": "execute_result"
    }
   ],
   "source": [
    "from sklearn.feature_extraction.text import TfidfTransformer\n",
    "\n",
    "tdidf_transformer = TfidfTransformer()\n",
    "X_train_tfidf = tdidf_transformer.fit_transform(X_train_counts)\n",
    "X_train_counts.shape\n"
   ]
  },
  {
   "cell_type": "markdown",
   "metadata": {},
   "source": [
    "# Training classifier #"
   ]
  },
  {
   "cell_type": "code",
   "execution_count": 90,
   "metadata": {
    "collapsed": false
   },
   "outputs": [
    {
     "data": {
      "text/plain": [
       "MultinomialNB(alpha=1.0, class_prior=None, fit_prior=True)"
      ]
     },
     "execution_count": 90,
     "metadata": {},
     "output_type": "execute_result"
    }
   ],
   "source": [
    "from sklearn.naive_bayes import MultinomialNB\n",
    "clf = MultinomialNB()\n",
    "clf.fit(X_train_tfidf, twenty_train.target)"
   ]
  },
  {
   "cell_type": "code",
   "execution_count": 91,
   "metadata": {
    "collapsed": true
   },
   "outputs": [],
   "source": [
    "docs_new = ['God is love]', 'OpenGL on the GPU is fast']\n",
    "X_new_counts = count_vect.transform(docs_new)\n",
    "X_new_tfidf = tdidf_transformer.transform(X_train_counts)\n",
    "predicted = clf.predict(X_new_tfidf)"
   ]
  },
  {
   "cell_type": "code",
   "execution_count": 92,
   "metadata": {
    "collapsed": false
   },
   "outputs": [
    {
     "name": "stdout",
     "output_type": "stream",
     "text": [
      "God is love] => rec.autos\n",
      "OpenGL on the GPU is fast => comp.sys.mac.hardware\n"
     ]
    }
   ],
   "source": [
    "for doc, category in zip(docs_new,predicted):\n",
    "    print doc, \"=>\", twenty_train.target_names[category]"
   ]
  },
  {
   "cell_type": "code",
   "execution_count": 93,
   "metadata": {
    "collapsed": false
   },
   "outputs": [],
   "source": [
    "## just wrote a metohd to predict new data ##\n",
    "def predict_new_data(docs_new):\n",
    "    X_new_counts = count_vect.transform(docs_new)\n",
    "    X_new_tfidf = tdidf_transformer.transform(X_train_counts)\n",
    "    predicted = clf.predict(X_new_tfidf)\n",
    "    \n",
    "    for doc, category in zip(docs_new,predicted):\n",
    "        print doc, \"=>\", twenty_train.target_names[category]\n",
    "    "
   ]
  },
  {
   "cell_type": "code",
   "execution_count": 94,
   "metadata": {
    "collapsed": false
   },
   "outputs": [
    {
     "name": "stdout",
     "output_type": "stream",
     "text": [
      "I am a data Scientist => rec.autos\n",
      "I am a computer science graduate => comp.sys.mac.hardware\n",
      "hello world => comp.sys.mac.hardware\n",
      "I like science => comp.graphics\n",
      "How are you such amazing => sci.space\n",
      "I am not able to understand you clearly => talk.politics.guns\n",
      "HI this is veena => sci.med\n"
     ]
    }
   ],
   "source": [
    "docs =['I am a data Scientist','I am a computer science graduate','hello world','I like science','How are you such amazing','I am not able to understand you clearly','HI this is veena']\n",
    "predict_new_data(docs)"
   ]
  },
  {
   "cell_type": "code",
   "execution_count": 36,
   "metadata": {
    "collapsed": false
   },
   "outputs": [
    {
     "data": {
      "text/plain": [
       "[u'From: bgrubb@dante.nmsu.edu (GRUBB)',\n",
       " u'Subject: Re: IDE vs SCSI',\n",
       " u'Organization: New Mexico State University, Las Cruces, NM',\n",
       " u'Lines: 44',\n",
       " u'Distribution: world',\n",
       " u'NNTP-Posting-Host: dante.nmsu.edu',\n",
       " u'',\n",
       " u'DXB132@psuvm.psu.edu writes:',\n",
       " u'>In article <1qlbrlINN7rk@dns1.NMSU.Edu>, bgrubb@dante.nmsu.edu (GRUBB) says:',\n",
       " u'>>In PC Magazine April 27, 1993:29 \"Although SCSI is twice as fasst as ESDI,',\n",
       " u'>>20% faster than IDE, and support up to 7 devices its acceptance ...has   ',\n",
       " u'>>long been stalled by incompatability problems and installation headaches.\"',\n",
       " u'                                                                      ',\n",
       " u'>I love it when magazine writers make stupid statements like that re:      ',\n",
       " u\">performance. Where do they get those numbers? I'll list the actual\",\n",
       " u'>performance ranges, which should convince anyone that such a               ',\n",
       " u'>statement is absurd:                                                     ',\n",
       " u'>SCSI-I ranges from 0-5MB/s.                                                ',\n",
       " u'>SCSI-II ranges from 0-40MB/s.            ',\n",
       " u'>IDE ranges from 0-8.3MB/s.                          ',\n",
       " u'>ESDI is always 1.25MB/s (although there are some non-standard versions)',\n",
       " u\"ALL this shows is that YOU don't know much about SCSI.\",\n",
       " u'',\n",
       " u'SCSI-1 {with a SCSI-1 controler chip} range is indeed 0-5MB/s',\n",
       " u'and that is ALL you have right about SCSI',\n",
       " u'SCSI-1 {With a SCSI-2 controller chip}: 4-6MB/s with 10MB/s burst {8-bit}',\n",
       " u' Note the INCREASE in SPEED, the Mac Quadra uses this version of SCSI-1',\n",
       " u' so it DOES exist. Some PC use this set up too.',\n",
       " u'SCSI-2 {8-bit/SCSI-1 mode}:          4-6MB/s with 10MB/s burst',\n",
       " u'SCSI-2 {16-bit/wide or fast mode}:  8-12MB/s with 20MB/s burst',\n",
       " u'SCSI-2 {32-bit/wide AND fast}:     15-20MB/s with 40MB/s burst',\n",
       " u' ',\n",
       " u'By your OWN data the \"Although SCSI is twice as fast as ESDI\" is correct',\n",
       " u'With a SCSI-2 controller chip SCSI-1 can reach 10MB/s which is indeed',\n",
       " u'\"20% faster than IDE\" {120% of 8.3 is 9.96}. ALL these SCSI facts have been',\n",
       " u'posted to this newsgroup in my Mac & IBM info sheet {available by FTP on ',\n",
       " u'sumex-aim.stanford.edu (36.44.0.6) in the info-mac/report as ',\n",
       " u'mac-ibm-compare[version #].txt (It should be 173 but 161 may still be there)}',\n",
       " u'',\n",
       " u'Part of this problem is both Mac and IBM PC are inconsiant about what SCSI',\n",
       " u'is which.  Though it is WELL documented that the Quadra has a SCSI-2 chip',\n",
       " u'an Apple salesperson said \"it uses a fast SCSI-1 chip\" {Not at a 6MB/s,',\n",
       " u'10MB/s burst it does not. SCSI-1 is 5MB/s maximum synchronous and Quadra',\n",
       " u'uses ANsynchronous SCSI which is SLOWER}  It seems that Mac and IBM see',\n",
       " u\"SCSI-1 interface and think 'SCSI-1' when it maybe a SCSI-1 interface driven\",\n",
       " u'in the machine by a SCSi-2 controller chip in 8-bit mode {Which is MUCH',\n",
       " u'FASTER then true SCSI-1 can go}.',\n",
       " u'',\n",
       " u\"Don't slam an article because you don't understand what is going on.\",\n",
       " u\"One reference for the Quadra's SCSI-2 controller chip is \",\n",
       " u'(Digital Review, Oct 21, 1991 v8 n33 p8(1)).',\n",
       " u'']"
      ]
     },
     "execution_count": 36,
     "metadata": {},
     "output_type": "execute_result"
    }
   ],
   "source": [
    "twenty_train.data[7].split(\"\\n\")"
   ]
  },
  {
   "cell_type": "code",
   "execution_count": 78,
   "metadata": {
    "collapsed": false
   },
   "outputs": [],
   "source": [
    " ## we can also do pipleline to do all at one(i.e, vectorizing, tfifd tranformer, predicting using clf) instead of writing methods ##\n",
    "from sklearn.pipeline import Pipeline\n",
    "text_clf = Pipeline([('vect', CountVectorizer()),('tfidf', TfidfTransformer()),('clf', MultinomialNB())])"
   ]
  },
  {
   "cell_type": "code",
   "execution_count": 96,
   "metadata": {
    "collapsed": false
   },
   "outputs": [
    {
     "data": {
      "text/plain": [
       "Pipeline(steps=[('vect', CountVectorizer(analyzer=u'word', binary=False, decode_error=u'strict',\n",
       "        dtype=<type 'numpy.int64'>, encoding=u'utf-8', input=u'content',\n",
       "        lowercase=True, max_df=1.0, max_features=None, min_df=1,\n",
       "        ngram_range=(1, 1), preprocessor=None, stop_words=None,\n",
       "        st...False,\n",
       "         use_idf=True)), ('clf', MultinomialNB(alpha=1.0, class_prior=None, fit_prior=True))])"
      ]
     },
     "execution_count": 96,
     "metadata": {},
     "output_type": "execute_result"
    }
   ],
   "source": [
    "text_clf.fit(twenty_train.data, twenty_train.target)"
   ]
  },
  {
   "cell_type": "markdown",
   "metadata": {},
   "source": [
    " # Evaluating #"
   ]
  },
  {
   "cell_type": "code",
   "execution_count": 97,
   "metadata": {
    "collapsed": false
   },
   "outputs": [
    {
     "data": {
      "text/plain": [
       "0.7738980350504514"
      ]
     },
     "execution_count": 97,
     "metadata": {},
     "output_type": "execute_result"
    }
   ],
   "source": [
    "import numpy as np\n",
    "twenty_test = fetch_20newsgroups(subset='test', shuffle=True)\n",
    "predicted = text_clf.predict(twenty_test.data)\n",
    "np.mean(predicted == twenty_test.target)"
   ]
  },
  {
   "cell_type": "markdown",
   "metadata": {},
   "source": [
    "# Tuning Hyperparameters #"
   ]
  },
  {
   "cell_type": "code",
   "execution_count": 99,
   "metadata": {
    "collapsed": false
   },
   "outputs": [],
   "source": [
    "# Grid Search #\n",
    "\n",
    "from sklearn.model_selection import GridSearchCV\n",
    "parameters = {'vect__ngram_range': [(1, 1), (1, 2)],\n",
    "                  'tfidf__use_idf': (True, False),\n",
    "                  'clf__alpha': (1e-2, 1e-3),\n",
    "                 }\n"
   ]
  },
  {
   "cell_type": "code",
   "execution_count": 100,
   "metadata": {
    "collapsed": true
   },
   "outputs": [],
   "source": [
    "gs_clf = GridSearchCV(text_clf, parameters, n_jobs=-1)"
   ]
  },
  {
   "cell_type": "code",
   "execution_count": 101,
   "metadata": {
    "collapsed": false
   },
   "outputs": [
    {
     "data": {
      "text/plain": [
       "GridSearchCV(cv=None, error_score='raise',\n",
       "       estimator=Pipeline(steps=[('vect', CountVectorizer(analyzer=u'word', binary=False, decode_error=u'strict',\n",
       "        dtype=<type 'numpy.int64'>, encoding=u'utf-8', input=u'content',\n",
       "        lowercase=True, max_df=1.0, max_features=None, min_df=1,\n",
       "        ngram_range=(1, 1), preprocessor=None, stop_words=None,\n",
       "        st...False,\n",
       "         use_idf=True)), ('clf', MultinomialNB(alpha=1.0, class_prior=None, fit_prior=True))]),\n",
       "       fit_params={}, iid=True, n_jobs=-1,\n",
       "       param_grid={'vect__ngram_range': [(1, 1), (1, 2)], 'tfidf__use_idf': (True, False), 'clf__alpha': (0.01, 0.001)},\n",
       "       pre_dispatch='2*n_jobs', refit=True, return_train_score=True,\n",
       "       scoring=None, verbose=0)"
      ]
     },
     "execution_count": 101,
     "metadata": {},
     "output_type": "execute_result"
    }
   ],
   "source": [
    "gs_clf"
   ]
  },
  {
   "cell_type": "code",
   "execution_count": 102,
   "metadata": {
    "collapsed": true
   },
   "outputs": [],
   "source": [
    "gs_clf = gs_clf.fit(twenty_train.data, twenty_train.target)\n"
   ]
  },
  {
   "cell_type": "code",
   "execution_count": 104,
   "metadata": {
    "collapsed": false
   },
   "outputs": [
    {
     "data": {
      "text/plain": [
       "0.90675269577514583"
      ]
     },
     "execution_count": 104,
     "metadata": {},
     "output_type": "execute_result"
    }
   ],
   "source": [
    "gs_clf.best_score_"
   ]
  },
  {
   "cell_type": "code",
   "execution_count": 105,
   "metadata": {
    "collapsed": false
   },
   "outputs": [
    {
     "data": {
      "text/plain": [
       "{'clf__alpha': 0.01, 'tfidf__use_idf': True, 'vect__ngram_range': (1, 2)}"
      ]
     },
     "execution_count": 105,
     "metadata": {},
     "output_type": "execute_result"
    }
   ],
   "source": [
    "gs_clf.best_params_\n"
   ]
  },
  {
   "cell_type": "code",
   "execution_count": null,
   "metadata": {
    "collapsed": true
   },
   "outputs": [],
   "source": []
  }
 ],
 "metadata": {
  "kernelspec": {
   "display_name": "Python 2",
   "language": "python",
   "name": "python2"
  },
  "language_info": {
   "codemirror_mode": {
    "name": "ipython",
    "version": 2
   },
   "file_extension": ".py",
   "mimetype": "text/x-python",
   "name": "python",
   "nbconvert_exporter": "python",
   "pygments_lexer": "ipython2",
   "version": "2.7.13"
  }
 },
 "nbformat": 4,
 "nbformat_minor": 2
}
